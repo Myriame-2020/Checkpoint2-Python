{
 "cells": [
  {
   "cell_type": "code",
   "execution_count": 1,
   "metadata": {},
   "outputs": [
    {
     "name": "stdout",
     "output_type": "stream",
     "text": [
      "[2002, 2009, 2016, 2023, 2037, 2044, 2051, 2058, 2072, 2079, 2086, 2093, 2107, 2114, 2121, 2128, 2142, 2149, 2156, 2163, 2177, 2184, 2191, 2198, 2212, 2219, 2226, 2233, 2247, 2254, 2261, 2268, 2282, 2289, 2296, 2303, 2317, 2324, 2331, 2338, 2352, 2359, 2366, 2373, 2387, 2394, 2401, 2408, 2422, 2429, 2436, 2443, 2457, 2464, 2471, 2478, 2492, 2499, 2506, 2513, 2527, 2534, 2541, 2548, 2562, 2569, 2576, 2583, 2597, 2604, 2611, 2618, 2632, 2639, 2646, 2653, 2667, 2674, 2681, 2688, 2702, 2709, 2716, 2723, 2737, 2744, 2751, 2758, 2772, 2779, 2786, 2793, 2807, 2814, 2821, 2828, 2842, 2849, 2856, 2863, 2877, 2884, 2891, 2898, 2912, 2919, 2926, 2933, 2947, 2954, 2961, 2968, 2982, 2989, 2996, 3003, 3017, 3024, 3031, 3038, 3052, 3059, 3066, 3073, 3087, 3094, 3101, 3108, 3122, 3129, 3136, 3143, 3157, 3164, 3171, 3178, 3192, 3199]\n"
     ]
    }
   ],
   "source": [
    "#Qst1\n",
    "l=[]\n",
    "for i in range(2000,3201):\n",
    "    if (i%7==0)&(i%5!=0):\n",
    "        l.append(i)\n",
    "print (l)"
   ]
  },
  {
   "cell_type": "code",
   "execution_count": 2,
   "metadata": {},
   "outputs": [
    {
     "name": "stdout",
     "output_type": "stream",
     "text": [
      "Enter a number: 5\n",
      "The factorial of 5 is 120\n"
     ]
    }
   ],
   "source": [
    "#Qst2\n",
    "fact=1\n",
    "n = int(input(\"Enter a number: \"))\n",
    "if n==0:\n",
    "    print(\"The factorial of 0 is 1\")\n",
    "if n>1:\n",
    "    for i in range (1,n + 1):\n",
    "        fact=fact*i\n",
    "    print (\"The factorial of\",n, \"is\", fact) "
   ]
  },
  {
   "cell_type": "code",
   "execution_count": 3,
   "metadata": {},
   "outputs": [
    {
     "name": "stdout",
     "output_type": "stream",
     "text": [
      "Enter a number: 0\n",
      "The factorial of 0 is 1\n"
     ]
    }
   ],
   "source": [
    "#Qst2\n",
    "fact=1\n",
    "n = int(input(\"Enter a number: \"))\n",
    "if n==0:\n",
    "    print(\"The factorial of 0 is 1\")\n",
    "if n>1:\n",
    "    for i in range (1,n + 1):\n",
    "        fact=fact*i\n",
    "    print (\"The factorial of\",n, \"is\", fact)"
   ]
  },
  {
   "cell_type": "code",
   "execution_count": 4,
   "metadata": {},
   "outputs": [
    {
     "name": "stdout",
     "output_type": "stream",
     "text": [
      "Enter a number: 8\n",
      "{1: 1, 2: 4, 3: 9, 4: 16, 5: 25, 6: 36, 7: 49, 8: 64}\n"
     ]
    }
   ],
   "source": [
    "#Qst3\n",
    "n = int(input(\"Enter a number: \"))\n",
    "dict={i:i*i for i in range(1,n+1)}\n",
    "print (dict)"
   ]
  },
  {
   "cell_type": "code",
   "execution_count": 5,
   "metadata": {},
   "outputs": [
    {
     "name": "stdout",
     "output_type": "stream",
     "text": [
      "Enter a string 1\n"
     ]
    }
   ],
   "source": [
    "#Qst4\n",
    "s=input(\"Enter a string \")\n",
    "ss=''\n",
    "if (s==ss):\n",
    "    print(\"Enter a non-empty string !\")\n",
    "else:\n",
    "    for n in range(0,len(s)-1):\n",
    "        n=int(input(\"Enter a number \"))\n",
    "        new=s[:n]+s[n+1:]\n",
    "        print (new)"
   ]
  },
  {
   "cell_type": "code",
   "execution_count": null,
   "metadata": {},
   "outputs": [
    {
     "name": "stdout",
     "output_type": "stream",
     "text": [
      "Enter a string Myriame\n",
      "Enter a number 1\n",
      "Mriame\n"
     ]
    }
   ],
   "source": [
    "#Qst4\n",
    "s=input(\"Enter a string \")\n",
    "ss=''\n",
    "if (s==ss):\n",
    "    print(\"Enter a non-empty string !\")\n",
    "else:\n",
    "    for n in range(0,len(s)-1):\n",
    "        n=int(input(\"Enter a number \"))\n",
    "        new=s[:n]+s[n+1:]\n",
    "        print (new)"
   ]
  },
  {
   "cell_type": "code",
   "execution_count": 1,
   "metadata": {},
   "outputs": [
    {
     "name": "stdout",
     "output_type": "stream",
     "text": [
      "Original array elements:\n",
      "[[0 1]\n",
      " [2 3]\n",
      " [4 5]]\n",
      "Array to list:\n",
      "[[0, 1], [2, 3], [4, 5]]\n"
     ]
    }
   ],
   "source": [
    "#Qst5\n",
    "import numpy as np\n",
    "n= np.arange(6).reshape(3, 2)\n",
    "print(\"Original array elements:\")\n",
    "print(n)\n",
    "print(\"Array to list:\")\n",
    "print(n.tolist())"
   ]
  },
  {
   "cell_type": "code",
   "execution_count": 2,
   "metadata": {},
   "outputs": [
    {
     "name": "stdout",
     "output_type": "stream",
     "text": [
      "\n",
      "Original array1:\n",
      "[0 1 2]\n",
      "\n",
      "Original array1:\n",
      "[2 1 0]\n",
      "\n",
      "Covariance matrix of the said arrays:\n",
      " [[ 1. -1.]\n",
      " [-1.  1.]]\n"
     ]
    }
   ],
   "source": [
    "import numpy as np\n",
    "x = np.array([0, 1, 2])\n",
    "y = np.array([2, 1, 0])\n",
    "print(\"\\nOriginal array1:\")\n",
    "print(x)\n",
    "print(\"\\nOriginal array1:\")\n",
    "print(y)\n",
    "print(\"\\nCovariance matrix of the said arrays:\\n\",np.cov(x, y))"
   ]
  },
  {
   "cell_type": "code",
   "execution_count": 3,
   "metadata": {},
   "outputs": [
    {
     "name": "stdout",
     "output_type": "stream",
     "text": [
      "Enter D 100,150,180\n",
      "[18, 22, 24]\n"
     ]
    }
   ],
   "source": [
    "#Qst7\n",
    "import math\n",
    "C=50\n",
    "H=30\n",
    "numbers = input(\"Enter D \")\n",
    "numbers = numbers.split(',')\n",
    "\n",
    "result= []\n",
    "for D in numbers:\n",
    "    Q = round(math.sqrt(2 * C * int(D) / H))\n",
    "    result.append(Q)\n",
    "\n",
    "print(result)"
   ]
  },
  {
   "cell_type": "code",
   "execution_count": null,
   "metadata": {},
   "outputs": [],
   "source": []
  }
 ],
 "metadata": {
  "kernelspec": {
   "display_name": "Python 3",
   "language": "python",
   "name": "python3"
  },
  "language_info": {
   "codemirror_mode": {
    "name": "ipython",
    "version": 3
   },
   "file_extension": ".py",
   "mimetype": "text/x-python",
   "name": "python",
   "nbconvert_exporter": "python",
   "pygments_lexer": "ipython3",
   "version": "3.8.5"
  }
 },
 "nbformat": 4,
 "nbformat_minor": 4
}
